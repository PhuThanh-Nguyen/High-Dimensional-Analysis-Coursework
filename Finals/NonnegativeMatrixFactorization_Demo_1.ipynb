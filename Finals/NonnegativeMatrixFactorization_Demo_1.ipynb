{
  "nbformat": 4,
  "nbformat_minor": 0,
  "metadata": {
    "colab": {
      "name": "XuLyDaChieu-NMF-Demo-1.ipynb",
      "provenance": [],
      "collapsed_sections": []
    },
    "kernelspec": {
      "name": "python3",
      "display_name": "Python 3"
    },
    "language_info": {
      "name": "python"
    }
  },
  "cells": [
    {
      "cell_type": "markdown",
      "metadata": {
        "id": "jPGJDjZST4kV"
      },
      "source": [
        "## Báo cáo Xử lý đa chiều\n",
        "## Code demo 1: Auto encoder Non-negative matrix factorization\n",
        "\n",
        "### Nhóm:\n",
        "#### 1. Nguyễn Minh Hoàng - 18110095\n",
        "#### 2. Nguyễn Phú Thành - 18110014\n",
        "#### 3. Vương Ngọc Hương Thảo - 18110223"
      ]
    },
    {
      "cell_type": "code",
      "metadata": {
        "id": "NB1yfCibQj5a"
      },
      "source": [
        "import numpy as np\n",
        "import matplotlib.pyplot as plt\n",
        "\n",
        "import torch\n",
        "import torch.nn as nn\n",
        "import torch.optim as optim\n",
        "import torchvision"
      ],
      "execution_count": null,
      "outputs": []
    },
    {
      "cell_type": "code",
      "metadata": {
        "id": "grTkqX94Qqmb"
      },
      "source": [
        "epochs = 10000\n",
        "learning_rate = 1e-3\n",
        "seed = 0\n",
        "torch.manual_seed(seed)\n",
        "rnd = np.random.RandomState(seed)"
      ],
      "execution_count": null,
      "outputs": []
    },
    {
      "cell_type": "code",
      "metadata": {
        "id": "qBKF1ez2QvcH"
      },
      "source": [
        "transform = torchvision.transforms.Compose([torchvision.transforms.ToTensor()])\n",
        "\n",
        "train_dataset = torchvision.datasets.MNIST(\n",
        "    root = \"~/torch_datasets\", train = True, transform = transform, download = True\n",
        ")\n",
        "\n",
        "train_loader = torch.utils.data.DataLoader(\n",
        "    train_dataset, batch_size = 1, shuffle = True\n",
        ")"
      ],
      "execution_count": null,
      "outputs": []
    },
    {
      "cell_type": "code",
      "metadata": {
        "id": "WFR7Kt_QQ6mg"
      },
      "source": [
        "class NMF_AE(nn.Module):\n",
        "    def __init__(self, **kwargs):\n",
        "        super().__init__()\n",
        "        self.input_shape, self.encoder_shape = kwargs['input_shape'], kwargs['encoder_shape']\n",
        "        self.W_enc = torch.autograd.Variable(torch.randn(self.encoder_shape, self.input_shape), requires_grad = True)\n",
        "        self.W_dec = torch.autograd.Variable(torch.rand(self.input_shape, self.encoder_shape), requires_grad = True)\n",
        "    \n",
        "    def forward(self, X_train):\n",
        "        encoder = torch.mm(self.W_enc, X_train)\n",
        "        encoder = nn.functional.relu(encoder)\n",
        "        reconstruction = torch.mm(self.W_dec, encoder)\n",
        "        return reconstruction\n",
        "    \n",
        "    def compress(self, X):\n",
        "        encoder = torch.mm(self.W_enc, X)\n",
        "        encoder = nn.functional.relu(encoder)\n",
        "        return encoder.detach().numpy().reshape(self.encoder_shape, 1)\n",
        "    \n",
        "    def getDecoderMat(self):\n",
        "        return self.W_dec.detach().numpy().reshape(self.input_shape, self.encoder_shape)"
      ],
      "execution_count": null,
      "outputs": []
    },
    {
      "cell_type": "code",
      "metadata": {
        "id": "aZbtec2CRAlh"
      },
      "source": [
        "# Lây 1 data sample từ tập train\n",
        "for batch_sample, _ in train_loader:\n",
        "    train_sample = batch_sample.view(-1, 784).numpy().reshape((28, 28))\n",
        "    break"
      ],
      "execution_count": null,
      "outputs": []
    },
    {
      "cell_type": "code",
      "metadata": {
        "colab": {
          "base_uri": "https://localhost:8080/",
          "height": 282
        },
        "id": "BE_7xiL9RI1B",
        "outputId": "cd9aa7bb-bc0d-4b8c-89c7-cfcedc5060ed"
      },
      "source": [
        "plt.imshow(train_sample, cmap = plt.cm.gray)"
      ],
      "execution_count": null,
      "outputs": [
        {
          "output_type": "execute_result",
          "data": {
            "text/plain": [
              "<matplotlib.image.AxesImage at 0x7f9601163410>"
            ]
          },
          "metadata": {
            "tags": []
          },
          "execution_count": 6
        },
        {
          "output_type": "display_data",
          "data": {
            "image/png": "[encoded data removed]",
            "text/plain": [
              "<Figure size 432x288 with 1 Axes>"
            ]
          },
          "metadata": {
            "tags": [],
            "needs_background": "light"
          }
        }
      ]
    },
    {
      "cell_type": "code",
      "metadata": {
        "id": "t8DV5Pb2RLqn"
      },
      "source": [
        "device = torch.device(\"cuda\" if torch.cuda.is_available() else \"cpu\")\n",
        "model = NMF_AE(input_shape = 28, encoder_shape = 18).to(device)\n",
        "X = train_sample.T.copy()"
      ],
      "execution_count": null,
      "outputs": []
    },
    {
      "cell_type": "code",
      "metadata": {
        "id": "4q-Pn27OROkW"
      },
      "source": [
        "loss_history = []\n",
        "for epoch in range(epochs):\n",
        "    # Shuffle data tại mỗi epoch\n",
        "    rnd.shuffle(X)\n",
        "    for i in range(X.shape[0]):\n",
        "        batch_features = torch.from_numpy(X[i, :].reshape(28, 1))\n",
        "        outputs = model(batch_features)\n",
        "        train_loss = (outputs - batch_features).pow(2).sum()\n",
        "\n",
        "        train_loss.backward()\n",
        "        \n",
        "        model.W_enc.data -= learning_rate * model.W_enc.grad.data\n",
        "        model.W_dec.data = nn.functional.relu(model.W_dec.data - learning_rate * model.W_dec.grad.data)\n",
        "        loss_history.append(train_loss.item())\n",
        "\n",
        "        model.W_enc.grad.data.zero_()\n",
        "        model.W_dec.grad.data.zero_()"
      ],
      "execution_count": null,
      "outputs": []
    },
    {
      "cell_type": "code",
      "metadata": {
        "id": "6wU47r-aRS4b"
      },
      "source": [
        "W = model.getDecoderMat()"
      ],
      "execution_count": null,
      "outputs": []
    },
    {
      "cell_type": "code",
      "metadata": {
        "id": "9dXMD9kkRWWQ"
      },
      "source": [
        "H = []\n",
        "X = train_sample.T.copy()\n",
        "for i in range(28):\n",
        "    batch_features = torch.from_numpy(X[i, :].reshape(28, 1))\n",
        "    col_H = model.compress(batch_features)\n",
        "    H.append(col_H)\n",
        "H = np.hstack(H)"
      ],
      "execution_count": null,
      "outputs": []
    },
    {
      "cell_type": "code",
      "metadata": {
        "colab": {
          "base_uri": "https://localhost:8080/"
        },
        "id": "iQ1biMulRWGN",
        "outputId": "b4f55cc7-b8c9-44e0-8638-26f521f7c4a1"
      },
      "source": [
        "(W >= 0).all()"
      ],
      "execution_count": null,
      "outputs": [
        {
          "output_type": "execute_result",
          "data": {
            "text/plain": [
              "True"
            ]
          },
          "metadata": {
            "tags": []
          },
          "execution_count": 11
        }
      ]
    },
    {
      "cell_type": "code",
      "metadata": {
        "colab": {
          "base_uri": "https://localhost:8080/"
        },
        "id": "yHewFkhaRVwT",
        "outputId": "c915c202-02df-4e13-ec22-7440c026c164"
      },
      "source": [
        "(H >= 0).all()"
      ],
      "execution_count": null,
      "outputs": [
        {
          "output_type": "execute_result",
          "data": {
            "text/plain": [
              "True"
            ]
          },
          "metadata": {
            "tags": []
          },
          "execution_count": 12
        }
      ]
    },
    {
      "cell_type": "code",
      "metadata": {
        "colab": {
          "base_uri": "https://localhost:8080/",
          "height": 431
        },
        "id": "T9l_sJ1dRfOF",
        "outputId": "88e46940-e148-4c10-bf09-dd1217245f8c"
      },
      "source": [
        "fig, axes = plt.subplots(nrows = 1, ncols = 2, figsize = (15, 10))\n",
        "axes[0].imshow(train_sample, cmap = plt.cm.gray)\n",
        "axes[1].imshow(W @ H, cmap = plt.cm.gray)\n",
        "\n",
        "axes[0].set(xticks = [], yticks = [], title = 'Original')\n",
        "axes[1].set(xticks = [], yticks = [], title = 'Reconstruction')\n",
        "\n",
        "fig.savefig('Demo_01.jpg')"
      ],
      "execution_count": null,
      "outputs": [
        {
          "output_type": "display_data",
          "data": {
            "image/png": "[encoded data removed]",
            "text/plain": [
              "<Figure size 1080x720 with 2 Axes>"
            ]
          },
          "metadata": {
            "tags": []
          }
        }
      ]
    },
    {
      "cell_type": "code",
      "metadata": {
        "id": "bgnPHlt2RkxP"
      },
      "source": [
        ""
      ],
      "execution_count": null,
      "outputs": []
    }
  ]
}