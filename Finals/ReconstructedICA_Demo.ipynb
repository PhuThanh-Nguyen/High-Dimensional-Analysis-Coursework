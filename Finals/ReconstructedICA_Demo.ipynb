{
  "nbformat": 4,
  "nbformat_minor": 0,
  "metadata": {
    "colab": {
      "name": "XuLyDaChieu-RICA-Demo.ipynb",
      "provenance": [],
      "collapsed_sections": []
    },
    "kernelspec": {
      "name": "python3",
      "display_name": "Python 3"
    },
    "language_info": {
      "name": "python"
    }
  },
  "cells": [
    {
      "cell_type": "markdown",
      "metadata": {
        "id": "ZpxuHIBGywk1"
      },
      "source": [
        "## Báo cáo Xử lý đa chiều\n",
        "## Code demo: Auto encoder RICA\n",
        "\n",
        "### Nhóm:\n",
        "#### 1. Nguyễn Minh Hoàng - 18110095\n",
        "#### 2. Nguyễn Phú Thành - 18110014\n",
        "#### 3. Vương Ngọc Hương Thảo - 18110223"
      ]
    },
    {
      "cell_type": "code",
      "metadata": {
        "id": "Eieab9eTxddK"
      },
      "source": [
        "import numpy as np\n",
        "import matplotlib.pyplot as plt\n",
        "\n",
        "import torch\n",
        "import torch.nn as nn\n",
        "import torch.optim as optim\n",
        "import torchvision"
      ],
      "execution_count": null,
      "outputs": []
    },
    {
      "cell_type": "code",
      "metadata": {
        "id": "EfxLDP_ixqgR"
      },
      "source": [
        "seed = 0\n",
        "torch.manual_seed(seed)\n",
        "rnd = np.random.RandomState(seed)"
      ],
      "execution_count": null,
      "outputs": []
    },
    {
      "cell_type": "code",
      "metadata": {
        "id": "OkcwhpIPxu2F"
      },
      "source": [
        "transform = torchvision.transforms.Compose([torchvision.transforms.ToTensor()])\n",
        "\n",
        "train_dataset = torchvision.datasets.MNIST(\n",
        "    root = \"~/torch_datasets\", train = True, transform = transform, download = True\n",
        ")\n",
        "\n",
        "train_loader = torch.utils.data.DataLoader(\n",
        "    train_dataset, batch_size = 1, shuffle = True\n",
        ")"
      ],
      "execution_count": null,
      "outputs": []
    },
    {
      "cell_type": "code",
      "metadata": {
        "id": "bO1gGzUfxxjV"
      },
      "source": [
        "class RICA(nn.Module):\n",
        "    def __init__(self, **kwargs):\n",
        "        super().__init__()\n",
        "        self.input_shape, self.encoder_shape = kwargs['input_shape'], kwargs['encoder_shape']\n",
        "        self.W = torch.autograd.Variable(torch.randn(self.encoder_shape, self.input_shape), requires_grad = True)\n",
        "    \n",
        "    def forward(self, X_train):\n",
        "        encoder = torch.mm(self.W, X_train)\n",
        "        reconstruct = torch.mm(torch.t(self.W), encoder)\n",
        "        return reconstruct"
      ],
      "execution_count": null,
      "outputs": []
    },
    {
      "cell_type": "code",
      "metadata": {
        "id": "9OK_eh8Wx1sJ"
      },
      "source": [
        "# Lây 1 data sample từ tập train\n",
        "for batch_sample, _ in train_loader:\n",
        "    train_sample = batch_sample.view(-1, 784).numpy().reshape((28, 28))\n",
        "    break"
      ],
      "execution_count": null,
      "outputs": []
    },
    {
      "cell_type": "code",
      "metadata": {
        "colab": {
          "base_uri": "https://localhost:8080/",
          "height": 282
        },
        "id": "vFIE-ufPx6W0",
        "outputId": "f4b7d073-001f-4adb-ab89-d122866b3487"
      },
      "source": [
        "plt.imshow(train_sample, cmap = plt.cm.gray)"
      ],
      "execution_count": null,
      "outputs": [
        {
          "output_type": "execute_result",
          "data": {
            "text/plain": [
              "<matplotlib.image.AxesImage at 0x7f9d1de376d0>"
            ]
          },
          "metadata": {
            "tags": []
          },
          "execution_count": 6
        },
        {
          "output_type": "display_data",
          "data": {
            "image/png": "[encoded data removed]",
            "text/plain": [
              "<Figure size 432x288 with 1 Axes>"
            ]
          },
          "metadata": {
            "tags": [],
            "needs_background": "light"
          }
        }
      ]
    },
    {
      "cell_type": "code",
      "metadata": {
        "id": "ISENwhYcx8Zf"
      },
      "source": [
        "device = torch.device(\"cuda\" if torch.cuda.is_available() else \"cpu\")\n",
        "model = RICA(input_shape = 28, encoder_shape = 18).to(device)\n",
        "X = train_sample.T.copy()"
      ],
      "execution_count": null,
      "outputs": []
    },
    {
      "cell_type": "code",
      "metadata": {
        "id": "ZXOIL92Gx_W4"
      },
      "source": [
        "epochs = 10000\n",
        "learning_rate = 1e-3\n",
        "regularization = 0.1"
      ],
      "execution_count": null,
      "outputs": []
    },
    {
      "cell_type": "code",
      "metadata": {
        "id": "BYQcJ4ipyCDR"
      },
      "source": [
        "epsilon = 0.01\n",
        "for epoch in range(epochs):\n",
        "    # Shuffle data tại mỗi epoch\n",
        "    rnd.shuffle(X)\n",
        "    for i in range(X.shape[0]):\n",
        "        batch_features = torch.from_numpy(X[i, :].reshape(28, 1))\n",
        "        outputs = model(batch_features)\n",
        "        reconstruction_loss = (outputs - batch_features).pow(2).sum()\n",
        "        regularization_loss = regularization * torch.sqrt(torch.mm(model.W, batch_features).pow(2).sum() + epsilon)\n",
        "\n",
        "        train_loss = 1/2 * reconstruction_loss + regularization_loss\n",
        "\n",
        "        train_loss.backward()\n",
        "        \n",
        "        model.W.data -= learning_rate * model.W.grad.data\n",
        "        model.W.grad.data.zero_()"
      ],
      "execution_count": null,
      "outputs": []
    },
    {
      "cell_type": "code",
      "metadata": {
        "id": "OLo-IJMsyONe"
      },
      "source": [
        "reconstruct = []\n",
        "X = train_sample.T.copy()\n",
        "for i in range(28):\n",
        "    temp = torch.from_numpy(X[i, :].reshape(28, 1))\n",
        "    col = model(temp)\n",
        "    reconstruct.append(col.detach().numpy())\n",
        "reconstruct = np.hstack(reconstruct)"
      ],
      "execution_count": null,
      "outputs": []
    },
    {
      "cell_type": "code",
      "metadata": {
        "colab": {
          "base_uri": "https://localhost:8080/",
          "height": 355
        },
        "id": "aEDCNt4byShj",
        "outputId": "d1e986f4-4d35-4c71-a17d-570bc5cde6bd"
      },
      "source": [
        "fig, axes = plt.subplots(nrows = 1, ncols = 2, figsize = (12, 10))\n",
        "\n",
        "axes[0].imshow(train_sample, cmap = plt.cm.gray)\n",
        "axes[1].imshow(reconstruct, cmap = plt.cm.gray)\n",
        "\n",
        "for i, name in enumerate(('Original', 'Reconstruct')):\n",
        "    axes[i].set(title = f'{name}', xticks = [], yticks = [])\n",
        "fig.savefig('Demo-RICA.jpg')"
      ],
      "execution_count": null,
      "outputs": [
        {
          "output_type": "display_data",
          "data": {
            "image/png": "[encoded data removed]",
            "text/plain": [
              "<Figure size 864x720 with 2 Axes>"
            ]
          },
          "metadata": {
            "tags": []
          }
        }
      ]
    },
    {
      "cell_type": "code",
      "metadata": {
        "id": "7hco80CYylSY"
      },
      "source": [
        ""
      ],
      "execution_count": null,
      "outputs": []
    }
  ]
}