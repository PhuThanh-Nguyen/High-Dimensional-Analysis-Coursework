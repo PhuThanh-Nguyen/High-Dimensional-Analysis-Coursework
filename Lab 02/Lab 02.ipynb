{
 "cells": [
  {
   "cell_type": "code",
   "execution_count": 1,
   "metadata": {},
   "outputs": [],
   "source": [
    "_ = '''\n",
    "    High Dimensional Analysis\n",
    "    Programming Excercise: 02\n",
    "    Name: Nguyễn Phú Thành\n",
    "    Student Code: 18110014\n",
    "'''"
   ]
  },
  {
   "cell_type": "markdown",
   "metadata": {},
   "source": [
    "## PROBLEM:\n",
    "## Apply Linear Discriminant Analysis algorithm on the Iris flower dataset. Make a comparison between LDA and PCA projected samples.\n",
    "## Note: Do LDA step by step, available tool for PCA is accepted."
   ]
  },
  {
   "cell_type": "code",
   "execution_count": 2,
   "metadata": {},
   "outputs": [],
   "source": [
    "import numpy as np\n",
    "from matplotlib import pyplot as plt\n",
    "import pandas as pd\n",
    "from sklearn.decomposition import PCA"
   ]
  },
  {
   "cell_type": "code",
   "execution_count": 3,
   "metadata": {},
   "outputs": [],
   "source": [
    "col_names = ['sepal length', 'sepal width', 'petal length', 'petal width', 'class']\n",
    "data = pd.read_csv('iris.data', names = col_names)"
   ]
  },
  {
   "cell_type": "code",
   "execution_count": 4,
   "metadata": {},
   "outputs": [
    {
     "data": {
      "text/html": [
       "<div>\n",
       "<style scoped>\n",
       "    .dataframe tbody tr th:only-of-type {\n",
       "        vertical-align: middle;\n",
       "    }\n",
       "\n",
       "    .dataframe tbody tr th {\n",
       "        vertical-align: top;\n",
       "    }\n",
       "\n",
       "    .dataframe thead th {\n",
       "        text-align: right;\n",
       "    }\n",
       "</style>\n",
       "<table border=\"1\" class=\"dataframe\">\n",
       "  <thead>\n",
       "    <tr style=\"text-align: right;\">\n",
       "      <th></th>\n",
       "      <th>sepal length</th>\n",
       "      <th>sepal width</th>\n",
       "      <th>petal length</th>\n",
       "      <th>petal width</th>\n",
       "      <th>class</th>\n",
       "    </tr>\n",
       "  </thead>\n",
       "  <tbody>\n",
       "    <tr>\n",
       "      <th>0</th>\n",
       "      <td>5.1</td>\n",
       "      <td>3.5</td>\n",
       "      <td>1.4</td>\n",
       "      <td>0.2</td>\n",
       "      <td>Iris-setosa</td>\n",
       "    </tr>\n",
       "    <tr>\n",
       "      <th>1</th>\n",
       "      <td>4.9</td>\n",
       "      <td>3.0</td>\n",
       "      <td>1.4</td>\n",
       "      <td>0.2</td>\n",
       "      <td>Iris-setosa</td>\n",
       "    </tr>\n",
       "    <tr>\n",
       "      <th>2</th>\n",
       "      <td>4.7</td>\n",
       "      <td>3.2</td>\n",
       "      <td>1.3</td>\n",
       "      <td>0.2</td>\n",
       "      <td>Iris-setosa</td>\n",
       "    </tr>\n",
       "    <tr>\n",
       "      <th>3</th>\n",
       "      <td>4.6</td>\n",
       "      <td>3.1</td>\n",
       "      <td>1.5</td>\n",
       "      <td>0.2</td>\n",
       "      <td>Iris-setosa</td>\n",
       "    </tr>\n",
       "    <tr>\n",
       "      <th>4</th>\n",
       "      <td>5.0</td>\n",
       "      <td>3.6</td>\n",
       "      <td>1.4</td>\n",
       "      <td>0.2</td>\n",
       "      <td>Iris-setosa</td>\n",
       "    </tr>\n",
       "  </tbody>\n",
       "</table>\n",
       "</div>"
      ],
      "text/plain": [
       "   sepal length  sepal width  petal length  petal width        class\n",
       "0           5.1          3.5           1.4          0.2  Iris-setosa\n",
       "1           4.9          3.0           1.4          0.2  Iris-setosa\n",
       "2           4.7          3.2           1.3          0.2  Iris-setosa\n",
       "3           4.6          3.1           1.5          0.2  Iris-setosa\n",
       "4           5.0          3.6           1.4          0.2  Iris-setosa"
      ]
     },
     "execution_count": 4,
     "metadata": {},
     "output_type": "execute_result"
    }
   ],
   "source": [
    "data.head()"
   ]
  },
  {
   "cell_type": "code",
   "execution_count": 5,
   "metadata": {},
   "outputs": [],
   "source": [
    "listClasses = data['class'].unique()\n",
    "mapper = {val: i for (i, val) in enumerate(listClasses)}\n",
    "demapper = {value: key for (key, value) in mapper.items()}"
   ]
  },
  {
   "cell_type": "code",
   "execution_count": 6,
   "metadata": {},
   "outputs": [
    {
     "data": {
      "text/plain": [
       "{'Iris-setosa': 0, 'Iris-versicolor': 1, 'Iris-virginica': 2}"
      ]
     },
     "execution_count": 6,
     "metadata": {},
     "output_type": "execute_result"
    }
   ],
   "source": [
    "mapper"
   ]
  },
  {
   "cell_type": "code",
   "execution_count": 7,
   "metadata": {},
   "outputs": [
    {
     "data": {
      "text/plain": [
       "{0: 'Iris-setosa', 1: 'Iris-versicolor', 2: 'Iris-virginica'}"
      ]
     },
     "execution_count": 7,
     "metadata": {},
     "output_type": "execute_result"
    }
   ],
   "source": [
    "demapper"
   ]
  },
  {
   "cell_type": "code",
   "execution_count": 8,
   "metadata": {},
   "outputs": [],
   "source": [
    "data['class'] = data['class'].apply(lambda val: mapper[val])"
   ]
  },
  {
   "cell_type": "code",
   "execution_count": 9,
   "metadata": {},
   "outputs": [
    {
     "data": {
      "text/html": [
       "<div>\n",
       "<style scoped>\n",
       "    .dataframe tbody tr th:only-of-type {\n",
       "        vertical-align: middle;\n",
       "    }\n",
       "\n",
       "    .dataframe tbody tr th {\n",
       "        vertical-align: top;\n",
       "    }\n",
       "\n",
       "    .dataframe thead th {\n",
       "        text-align: right;\n",
       "    }\n",
       "</style>\n",
       "<table border=\"1\" class=\"dataframe\">\n",
       "  <thead>\n",
       "    <tr style=\"text-align: right;\">\n",
       "      <th></th>\n",
       "      <th>sepal length</th>\n",
       "      <th>sepal width</th>\n",
       "      <th>petal length</th>\n",
       "      <th>petal width</th>\n",
       "      <th>class</th>\n",
       "    </tr>\n",
       "  </thead>\n",
       "  <tbody>\n",
       "    <tr>\n",
       "      <th>0</th>\n",
       "      <td>5.1</td>\n",
       "      <td>3.5</td>\n",
       "      <td>1.4</td>\n",
       "      <td>0.2</td>\n",
       "      <td>0</td>\n",
       "    </tr>\n",
       "    <tr>\n",
       "      <th>1</th>\n",
       "      <td>4.9</td>\n",
       "      <td>3.0</td>\n",
       "      <td>1.4</td>\n",
       "      <td>0.2</td>\n",
       "      <td>0</td>\n",
       "    </tr>\n",
       "    <tr>\n",
       "      <th>2</th>\n",
       "      <td>4.7</td>\n",
       "      <td>3.2</td>\n",
       "      <td>1.3</td>\n",
       "      <td>0.2</td>\n",
       "      <td>0</td>\n",
       "    </tr>\n",
       "    <tr>\n",
       "      <th>3</th>\n",
       "      <td>4.6</td>\n",
       "      <td>3.1</td>\n",
       "      <td>1.5</td>\n",
       "      <td>0.2</td>\n",
       "      <td>0</td>\n",
       "    </tr>\n",
       "    <tr>\n",
       "      <th>4</th>\n",
       "      <td>5.0</td>\n",
       "      <td>3.6</td>\n",
       "      <td>1.4</td>\n",
       "      <td>0.2</td>\n",
       "      <td>0</td>\n",
       "    </tr>\n",
       "  </tbody>\n",
       "</table>\n",
       "</div>"
      ],
      "text/plain": [
       "   sepal length  sepal width  petal length  petal width  class\n",
       "0           5.1          3.5           1.4          0.2      0\n",
       "1           4.9          3.0           1.4          0.2      0\n",
       "2           4.7          3.2           1.3          0.2      0\n",
       "3           4.6          3.1           1.5          0.2      0\n",
       "4           5.0          3.6           1.4          0.2      0"
      ]
     },
     "execution_count": 9,
     "metadata": {},
     "output_type": "execute_result"
    }
   ],
   "source": [
    "data.head()"
   ]
  },
  {
   "cell_type": "code",
   "execution_count": 10,
   "metadata": {},
   "outputs": [],
   "source": [
    "def standardizeData(X):\n",
    "    '''\n",
    "        Standarize array X of dimension n x k \n",
    "        where n is a number of samples and d is a number of dimensions, \n",
    "        therefore each row in X is an observation of r.v in d dimensions\n",
    "    '''\n",
    "    mean, std = np.mean(X, axis = 0), np.std(X, axis = 0, ddof = 1)\n",
    "    return (X - mean)/std"
   ]
  },
  {
   "cell_type": "code",
   "execution_count": 11,
   "metadata": {},
   "outputs": [],
   "source": [
    "class LDA:\n",
    "    \n",
    "    def __init__(self, n_combonents = None):\n",
    "        '''\n",
    "            Initialize LDA object\n",
    "            Parameters:\n",
    "                n_combonents: int, default None\n",
    "                    Number of combonents to get after apply LDA\n",
    "                    If None, all of combonents will return\n",
    "        '''\n",
    "        self.n_combonents = n_combonents\n",
    "        self.W = None\n",
    "    \n",
    "    def betweenClassAndWithinClass_(self, X, y):\n",
    "        '''\n",
    "            Calculate Between-class and Within-class scatter matrices\n",
    "            (formulas for these two matrices are in file report)\n",
    "        '''\n",
    "        S_W, S_B = 0, 0\n",
    "        overall_mean = np.mean(X, axis = 0).reshape(-1, 1)\n",
    "        for id_class in np.unique(y):\n",
    "            subset_X = X[y == id_class].copy()\n",
    "            mean_vec = np.mean(subset_X, axis = 0).reshape(-1, 1)\n",
    "            S_i = 0\n",
    "            for sample in subset_X:\n",
    "                sample = sample.reshape(-1, 1)\n",
    "                S_i += (sample - mean_vec) @ (sample - mean_vec).T\n",
    "            S_W += S_i\n",
    "            S_B += subset_X.shape[0] * (mean_vec - overall_mean) @ (mean_vec - overall_mean).T\n",
    "        return S_B, S_W\n",
    "    \n",
    "    def fit(self, X, y):\n",
    "        '''\n",
    "            Calculate projection matrix W where each column is a eigenvector of S_W^{-1}S_B\n",
    "            Parameters:\n",
    "                X: ndarray of shape (n_samples, d_features)\n",
    "                    Data matrix\n",
    "                y: ndarray of shape (n_samples,)\n",
    "                    An array of labels for each sample (observation) in X\n",
    "        '''\n",
    "        self.betweenClassMat, self.withinClassMat = self.betweenClassAndWithinClass_(X, y)\n",
    "        eigenvals, eigenvecs = np.linalg.eig(np.linalg.inv(self.withinClassMat) @ self.betweenClassMat)\n",
    "        eigenpairs = [\n",
    "            (eigenval, eigenvec.reshape(-1, 1)) for (eigenval, eigenvec) in zip(eigenvals, eigenvecs.T)\n",
    "        ]\n",
    "        eigenpairs = sorted(eigenpairs, key = lambda pair: pair[0], reverse = True)\n",
    "        eigenvecs = [eigenvec for (_, eigenvec) in eigenpairs]\n",
    "        if self.n_combonents is None:\n",
    "            self.W = np.hstack(eigenvecs)\n",
    "        else:\n",
    "            self.W = np.hstack(eigenvecs[:self.n_combonents])\n",
    "        return self\n",
    "    \n",
    "    def transform(self, X):\n",
    "        '''\n",
    "            Apply transformation by project X onto W\n",
    "            Parameters:\n",
    "                X: ndarray of shape (n_samples, d_features)\n",
    "                    Data matrix to be projected onto W\n",
    "        '''\n",
    "        assert self.W is not None, 'LDA object must fit to data first before perform transformation'\n",
    "        return X @ self.W\n",
    "    \n",
    "    def fit_transform(self, X, y):\n",
    "        '''\n",
    "            Fit and transform in one-go\n",
    "            Parameters:\n",
    "                X: ndarray of shape (n_samples, d_features)\n",
    "                    Data matrix\n",
    "                y: ndarray of shape (n_samples,)\n",
    "                    An array of labels for each sample (observation) in X\n",
    "        '''\n",
    "        self.betweenClassMat, self.withinClassMat = self.betweenClassAndWithinClass_(X, y)\n",
    "        eigenvals, eigenvecs = np.linalg.eig(np.linalg.inv(self.withinClassMat) @ self.betweenClassMat)\n",
    "        eigenpairs = [\n",
    "            (eigenval, eigenvec.reshape(-1, 1)) for (eigenval, eigenvec) in zip(eigenvals, eigenvecs.T)\n",
    "        ]\n",
    "        eigenpairs = sorted(eigenpairs, key = lambda pair: pair[0], reverse = True)\n",
    "        eigenvecs = [eigenvec for (_, eigenvec) in eigenpairs]\n",
    "        if self.n_combonents is None:\n",
    "            self.W = np.hstack(eigenvecs)\n",
    "        else:\n",
    "            self.W = np.hstack(eigenvecs[:self.n_combonents])\n",
    "        \n",
    "        return X @ self.W"
   ]
  },
  {
   "cell_type": "code",
   "execution_count": 12,
   "metadata": {},
   "outputs": [],
   "source": [
    "X, y = data.iloc[:, :-1].to_numpy(), data.iloc[:, -1].to_numpy()\n",
    "X = standardizeData(X)"
   ]
  },
  {
   "cell_type": "code",
   "execution_count": 13,
   "metadata": {},
   "outputs": [],
   "source": [
    "lda = LDA(n_combonents = 2)"
   ]
  },
  {
   "cell_type": "code",
   "execution_count": 14,
   "metadata": {},
   "outputs": [],
   "source": [
    "X_transform_lda = lda.fit_transform(X, y)"
   ]
  },
  {
   "cell_type": "code",
   "execution_count": 15,
   "metadata": {},
   "outputs": [],
   "source": [
    "pca = PCA(n_components = 2).fit(X)"
   ]
  },
  {
   "cell_type": "code",
   "execution_count": 16,
   "metadata": {},
   "outputs": [],
   "source": [
    "X_transform_pca = pca.transform(X)"
   ]
  },
  {
   "cell_type": "code",
   "execution_count": 17,
   "metadata": {},
   "outputs": [
    {
     "data": {
      "image/png": "[encoded data removed]",
      "text/plain": [
       "<Figure size 864x1080 with 2 Axes>"
      ]
     },
     "metadata": {
      "needs_background": "light"
     },
     "output_type": "display_data"
    }
   ],
   "source": [
    "fig, axes = plt.subplots(figsize = (12, 15), nrows = 2, ncols = 1)\n",
    "\n",
    "for (i, (X_transform, name)) in enumerate(zip([X_transform_pca, X_transform_lda], ['PCA', 'LDA'])):\n",
    "    for id_class in np.unique(y):\n",
    "        subset_X = X_transform[y == id_class]\n",
    "        axes[i].scatter(subset_X[:, 0], subset_X[:, 1], label = demapper[id_class])\n",
    "    axes[i].set(title = name)\n",
    "    legend = axes[i].legend()\n",
    "    legend.get_frame().set_linewidth(2)\n",
    "    legend.get_frame().set_edgecolor('black')\n",
    "fig.savefig('LDA_vs_PCA.jpg')"
   ]
  },
  {
   "cell_type": "code",
   "execution_count": null,
   "metadata": {},
   "outputs": [],
   "source": []
  }
 ],
 "metadata": {
  "kernelspec": {
   "display_name": "base",
   "language": "python",
   "name": "base"
  },
  "language_info": {
   "codemirror_mode": {
    "name": "ipython",
    "version": 3
   },
   "file_extension": ".py",
   "mimetype": "text/x-python",
   "name": "python",
   "nbconvert_exporter": "python",
   "pygments_lexer": "ipython3",
   "version": "3.8.5"
  }
 },
 "nbformat": 4,
 "nbformat_minor": 4
}
